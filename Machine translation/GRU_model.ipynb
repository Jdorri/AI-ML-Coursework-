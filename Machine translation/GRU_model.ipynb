{
  "nbformat": 4,
  "nbformat_minor": 0,
  "metadata": {
    "colab": {
      "name": "NLP_CW_GRU_model.ipynb",
      "provenance": [],
      "collapsed_sections": []
    },
    "kernelspec": {
      "name": "python3",
      "display_name": "Python 3"
    },
    "accelerator": "GPU"
  },
  "cells": [
    {
      "cell_type": "code",
      "metadata": {
        "id": "yrYkV_Q1pw-3",
        "colab_type": "code",
        "outputId": "cea01037-f899-4f3f-91be-c685d4a9adf9",
        "colab": {
          "base_uri": "https://localhost:8080/",
          "height": 462
        }
      },
      "source": [
        "!pip3 install transformers\n",
        "!ln -sf /opt/bin/nvidia-smi /usr/bin/nvidia-smi\n",
        "!pip3 install gputil\n",
        "!pip3 install psutil\n",
        "!pip3 install humanize"
      ],
      "execution_count": 1,
      "outputs": [
        {
          "output_type": "stream",
          "text": [
            "Requirement already satisfied: transformers in /usr/local/lib/python3.6/dist-packages (2.5.1)\n",
            "Requirement already satisfied: boto3 in /usr/local/lib/python3.6/dist-packages (from transformers) (1.11.15)\n",
            "Requirement already satisfied: tqdm>=4.27 in /usr/local/lib/python3.6/dist-packages (from transformers) (4.28.1)\n",
            "Requirement already satisfied: numpy in /usr/local/lib/python3.6/dist-packages (from transformers) (1.17.5)\n",
            "Requirement already satisfied: sacremoses in /usr/local/lib/python3.6/dist-packages (from transformers) (0.0.38)\n",
            "Requirement already satisfied: regex!=2019.12.17 in /usr/local/lib/python3.6/dist-packages (from transformers) (2019.12.20)\n",
            "Requirement already satisfied: sentencepiece in /usr/local/lib/python3.6/dist-packages (from transformers) (0.1.85)\n",
            "Requirement already satisfied: requests in /usr/local/lib/python3.6/dist-packages (from transformers) (2.21.0)\n",
            "Requirement already satisfied: tokenizers==0.5.2 in /usr/local/lib/python3.6/dist-packages (from transformers) (0.5.2)\n",
            "Requirement already satisfied: filelock in /usr/local/lib/python3.6/dist-packages (from transformers) (3.0.12)\n",
            "Requirement already satisfied: s3transfer<0.4.0,>=0.3.0 in /usr/local/lib/python3.6/dist-packages (from boto3->transformers) (0.3.3)\n",
            "Requirement already satisfied: botocore<1.15.0,>=1.14.15 in /usr/local/lib/python3.6/dist-packages (from boto3->transformers) (1.14.15)\n",
            "Requirement already satisfied: jmespath<1.0.0,>=0.7.1 in /usr/local/lib/python3.6/dist-packages (from boto3->transformers) (0.9.4)\n",
            "Requirement already satisfied: joblib in /usr/local/lib/python3.6/dist-packages (from sacremoses->transformers) (0.14.1)\n",
            "Requirement already satisfied: click in /usr/local/lib/python3.6/dist-packages (from sacremoses->transformers) (7.0)\n",
            "Requirement already satisfied: six in /usr/local/lib/python3.6/dist-packages (from sacremoses->transformers) (1.12.0)\n",
            "Requirement already satisfied: chardet<3.1.0,>=3.0.2 in /usr/local/lib/python3.6/dist-packages (from requests->transformers) (3.0.4)\n",
            "Requirement already satisfied: urllib3<1.25,>=1.21.1 in /usr/local/lib/python3.6/dist-packages (from requests->transformers) (1.24.3)\n",
            "Requirement already satisfied: certifi>=2017.4.17 in /usr/local/lib/python3.6/dist-packages (from requests->transformers) (2019.11.28)\n",
            "Requirement already satisfied: idna<2.9,>=2.5 in /usr/local/lib/python3.6/dist-packages (from requests->transformers) (2.8)\n",
            "Requirement already satisfied: docutils<0.16,>=0.10 in /usr/local/lib/python3.6/dist-packages (from botocore<1.15.0,>=1.14.15->boto3->transformers) (0.15.2)\n",
            "Requirement already satisfied: python-dateutil<3.0.0,>=2.1 in /usr/local/lib/python3.6/dist-packages (from botocore<1.15.0,>=1.14.15->boto3->transformers) (2.6.1)\n",
            "Requirement already satisfied: gputil in /usr/local/lib/python3.6/dist-packages (1.4.0)\n",
            "Requirement already satisfied: psutil in /usr/local/lib/python3.6/dist-packages (5.4.8)\n",
            "Requirement already satisfied: humanize in /usr/local/lib/python3.6/dist-packages (0.5.1)\n"
          ],
          "name": "stdout"
        }
      ]
    },
    {
      "cell_type": "code",
      "metadata": {
        "id": "ZOTnDtqc1LKY",
        "colab_type": "code",
        "outputId": "22152e33-2ab9-4f72-9582-189153b31fba",
        "colab": {
          "base_uri": "https://localhost:8080/",
          "height": 343
        }
      },
      "source": [
        "# download spacy models for english and german\n",
        "\n",
        "!spacy download en_core_web_md\n",
        "!spacy link en_core_web_md en300\n",
        "\n",
        "# !spacy download de_core_news_md\n",
        "# !spacy link de_core_news_md de300\n",
        "\n",
        "!wget -c https://github.com/Tony607/Chinese_sentiment_analysis/blob/master/data/chinese_stop_words.txt"
      ],
      "execution_count": 2,
      "outputs": [
        {
          "output_type": "stream",
          "text": [
            "Requirement already satisfied: en_core_web_md==2.1.0 from https://github.com/explosion/spacy-models/releases/download/en_core_web_md-2.1.0/en_core_web_md-2.1.0.tar.gz#egg=en_core_web_md==2.1.0 in /usr/local/lib/python3.6/dist-packages (2.1.0)\n",
            "\u001b[38;5;2m✔ Download and installation successful\u001b[0m\n",
            "You can now load the model via spacy.load('en_core_web_md')\n",
            "\n",
            "\u001b[38;5;1m✘ Link 'en300' already exists\u001b[0m\n",
            "To overwrite an existing link, use the --force flag\n",
            "\n",
            "--2020-02-28 14:13:18--  https://github.com/Tony607/Chinese_sentiment_analysis/blob/master/data/chinese_stop_words.txt\n",
            "Resolving github.com (github.com)... 140.82.118.4\n",
            "Connecting to github.com (github.com)|140.82.118.4|:443... connected.\n",
            "HTTP request sent, awaiting response... 200 OK\n",
            "Length: unspecified [text/html]\n",
            "Saving to: ‘chinese_stop_words.txt’\n",
            "\n",
            "chinese_stop_words.     [ <=>                ] 417.17K  --.-KB/s    in 0.02s   \n",
            "\n",
            "2020-02-28 14:13:19 (20.7 MB/s) - ‘chinese_stop_words.txt’ saved [429644]\n",
            "\n"
          ],
          "name": "stdout"
        }
      ]
    },
    {
      "cell_type": "code",
      "metadata": {
        "id": "7Igrk_HCwZFk",
        "colab_type": "code",
        "outputId": "562aac8c-4e93-4378-a23b-0a2cac7034bd",
        "colab": {
          "base_uri": "https://localhost:8080/",
          "height": 68
        }
      },
      "source": [
        "import pandas as pd\n",
        "import torch\n",
        "import numpy as np\n",
        "from torch.utils.data import DataLoader, TensorDataset, sampler\n",
        "import spacy\n",
        "import torchtext\n",
        "\n",
        "from nltk import download\n",
        "from nltk.corpus import stopwords\n",
        "from gensim.models import Word2Vec, KeyedVectors\n",
        "import string\n",
        "import jieba\n",
        "import gensim\n",
        "\n",
        "import io\n",
        "import os\n",
        "from os.path import exists\n",
        "import matplotlib.pyplot as plt\n",
        "\n",
        "import time\n",
        "\n",
        "download('stopwords')"
      ],
      "execution_count": 3,
      "outputs": [
        {
          "output_type": "stream",
          "text": [
            "[nltk_data] Downloading package stopwords to /root/nltk_data...\n",
            "[nltk_data]   Package stopwords is already up-to-date!\n"
          ],
          "name": "stdout"
        },
        {
          "output_type": "execute_result",
          "data": {
            "text/plain": [
              "True"
            ]
          },
          "metadata": {
            "tags": []
          },
          "execution_count": 3
        }
      ]
    },
    {
      "cell_type": "code",
      "metadata": {
        "id": "Xnozx82yprlY",
        "colab_type": "code",
        "outputId": "de34b8eb-8473-48a5-c5ff-8c823660ddaf",
        "colab": {
          "base_uri": "https://localhost:8080/",
          "height": 122
        }
      },
      "source": [
        "from google.colab import files, drive\n",
        "drive.mount('/content/gdrive')"
      ],
      "execution_count": 4,
      "outputs": [
        {
          "output_type": "stream",
          "text": [
            "Go to this URL in a browser: https://accounts.google.com/o/oauth2/auth?client_id=947318989803-6bn6qk8qdgf4n4g3pfee6491hc0brc4i.apps.googleusercontent.com&redirect_uri=urn%3aietf%3awg%3aoauth%3a2.0%3aoob&response_type=code&scope=email%20https%3a%2f%2fwww.googleapis.com%2fauth%2fdocs.test%20https%3a%2f%2fwww.googleapis.com%2fauth%2fdrive%20https%3a%2f%2fwww.googleapis.com%2fauth%2fdrive.photos.readonly%20https%3a%2f%2fwww.googleapis.com%2fauth%2fpeopleapi.readonly\n",
            "\n",
            "Enter your authorization code:\n",
            "··········\n",
            "Mounted at /content/gdrive\n"
          ],
          "name": "stdout"
        }
      ]
    },
    {
      "cell_type": "code",
      "metadata": {
        "id": "dJfiVwH_g1or",
        "colab_type": "code",
        "colab": {}
      },
      "source": [
        "import pickle\n",
        "\n",
        "# get embeddings\n",
        "glove300 = torchtext.vocab.GloVe(name='6B', dim=300, cache='/content/gdrive/My Drive/Colab Notebooks')\n",
        "pickle.dump(glove300, open('/content/gdrive/My Drive/Colab Notebooks/glove300.pkl', 'wb'))\n",
        "glove3000 = pickle.load(open('/content/gdrive/My Drive/Colab Notebooks/glove300.pkl', 'rb'))"
      ],
      "execution_count": 0,
      "outputs": []
    },
    {
      "cell_type": "code",
      "metadata": {
        "id": "3VLuxXcIqLAf",
        "colab_type": "code",
        "colab": {}
      },
      "source": [
        "# download and unzip the data\n",
        "language = 'enzh' #'ende' or 'enzh'\n",
        "\n",
        "file_name = language + '_data.zip'\n",
        "\n",
        "if language == 'enzh' and not exists(file_name):\n",
        "    !wget -O enzh_data.zip https://competitions.codalab.org/my/datasets/download/03e23bd7-8084-4542-997b-6a1ca6dd8a5f\n",
        "    !unzip enzh_data.zip\n",
        "\n",
        "elif language == 'ende' and not exists(file_name):\n",
        "    !wget -O ende_data.zip https://competitions.codalab.org/my/datasets/download/c748d2c0-d6be-4e36-9f12-ca0e88819c4d\n",
        "    !unzip ende_data.zip\n",
        " "
      ],
      "execution_count": 0,
      "outputs": []
    },
    {
      "cell_type": "code",
      "metadata": {
        "id": "qMQg_QSr0Uxe",
        "colab_type": "code",
        "colab": {}
      },
      "source": [
        "# get stop words\n",
        "stop_words_en = set(stopwords.words('english'))\n",
        "stop_words_zh = [line.rstrip() for line in open(os.path.expanduser('./chinese_stop_words.txt'), \"r\", encoding=\"utf-8\")]\n",
        "stop_words_de = set(stopwords.words('german'))"
      ],
      "execution_count": 0,
      "outputs": []
    },
    {
      "cell_type": "code",
      "metadata": {
        "id": "K_L_EA0Dxui3",
        "colab_type": "code",
        "colab": {}
      },
      "source": [
        "# preprocessing...\n",
        " \n",
        "def preprocessing(sentence, lang, nlp, remove_stop_word=True):\n",
        "    \"\"\"\n",
        "    Preprocesses the sentence by lowercasing, lemmatizing (if not chinese),\n",
        "    removing stopwords and tokenizing.\n",
        "\n",
        "    :param sentence: str object. Sentence to preprocess\n",
        "    :param lang: language of the sentnece. Options: 'zh', 'en', 'de'\n",
        "    :param nlp: spacy nlp object if language is 'en' or 'de'. gensim.model if\n",
        "                language='zh'\n",
        "    :remove_stop_word: if True, remove stopwords\n",
        "\n",
        "    :return: list of tokens of the sentence\n",
        "    \"\"\"\n",
        "    if lang == 'zh':\n",
        "        line = jieba.lcut(sentence, cut_all=True)\n",
        "        if remove_stop_word:\n",
        "            line = [word for word in line if word not in stop_words_zh]\n",
        "        line = [e for e in line if e.isalnum()] # True if all characters in the string are alphanumeric (no whitespace etc.)\n",
        "    elif lang == 'en':\n",
        "        text = sentence.lower()\n",
        "        line = [token.lemma_ for token in nlp.tokenizer(text)]\n",
        "        if remove_stop_word:\n",
        "            line = [word for word in line if word not in stop_words_en]\n",
        "    elif lang == 'de':\n",
        "        text = sentence.lower()\n",
        "        line = [token.lemma_ for token in nlp.tokenizer(text)]\n",
        "        if remove_stop_word:\n",
        "            line = [word for word in line if word not in stop_words_de]\n",
        "    return line"
      ],
      "execution_count": 0,
      "outputs": []
    },
    {
      "cell_type": "code",
      "metadata": {
        "id": "4SP8mgr3znB-",
        "colab_type": "code",
        "colab": {}
      },
      "source": [
        "def get_embeddings(data, lang, max_len_lang, nlp, embedding_dim=300,\n",
        "                   remove_stop_word=True):\n",
        "    \"\"\"\n",
        "    Converts all sentences in the data into its word embeddings. Combines\n",
        "    preprocessing() and get_sentence_vector()\n",
        "\n",
        "    :param data: ndarray of sentences in the data\n",
        "    :param lang: language of the data\n",
        "    :param max_len_lang: maximum length of each sentence\n",
        "    :param nlp: spacy nlp object if language is 'en' or 'de'. gensim.model if\n",
        "                language='zh'\n",
        "    :param embedding_dim: embedding dimension of each token\n",
        "    :param remove_stop_word: if True, remove stop words\n",
        "\n",
        "    :return: sentence_vectors of shape (n_sentence, max_len_lang, embedding_dim)\n",
        "    \"\"\"\n",
        "    sentence_vectors = np.zeros(shape=(len(data), max_len_lang, embedding_dim))\n",
        "\n",
        "    for idx, sentence in enumerate(data):\n",
        "        sentence_tokens = preprocessing(sentence, lang, nlp, remove_stop_word)\n",
        "        sentence_vectors[idx] = get_sentence_vector(sentence_tokens, lang, max_len_lang, nlp, embedding_dim)\n",
        "\n",
        "    return sentence_vectors # -> (n_sentence, max_len_lang, embedding_dim)"
      ],
      "execution_count": 0,
      "outputs": []
    },
    {
      "cell_type": "code",
      "metadata": {
        "id": "lsYAtLVJkHWa",
        "colab_type": "code",
        "colab": {}
      },
      "source": [
        "def get_sentence_vector(sentence_tokens, lang, max_len_lang, nlp,\n",
        "                        embedding_dim=300):\n",
        "    \"\"\"\n",
        "    Converts each token of the sentence to its word embedding (vector). If the\n",
        "    sentence is longer than max_len_lang, it will be cut. If it's shorter, it'll\n",
        "    be zero padded.\n",
        "\n",
        "    :param sentence_tokens: list of tokens in the sentence\n",
        "    :param lang: language of the sentence\n",
        "    :param max_len_lang: maximum length of the sentence\n",
        "    :param nlp: spacy nlp object if language is 'en' or 'de'. gensim.model if\n",
        "                language='zh'\n",
        "    :param embedding_dim: embedding dimension of tokens\n",
        "\n",
        "    :return: nd.array of word embeddings of the sentence with shape\n",
        "             (max_len_lang, embedding_dim)\n",
        "    \"\"\"\n",
        "    vectors = np.ones(shape=(max_len_lang, embedding_dim))\n",
        "\n",
        "    if lang == 'en' and embedding_dim == 300:\n",
        "        for idx, w in enumerate(sentence_tokens):\n",
        "            if idx >= max_len_lang: # Cut the sentence short if it's too long\n",
        "                break\n",
        "            try:\n",
        "                vectors[idx] = glove300.vectors[glove300.stoi[w]].numpy()\n",
        "            except: # all zero vector for unknown words (consistent with spacy)\n",
        "                vectors[idx] = np.zeros(embedding_dim)\n",
        "    elif lang == 'zh' and embedding_dim == 300:\n",
        "        for idx, w in enumerate(sentence_tokens):\n",
        "            if idx >= max_len_lang:\n",
        "                break\n",
        "            try:\n",
        "                vectors[idx] = nlp.wv[w]\n",
        "            except: # all zero vector for unknown words (consistent with spacy)\n",
        "                vectors[idx] = np.zeros(embedding_dim)\n",
        "    else:\n",
        "        raise Exception('other embedding dim not implemented yet...use 300')\n",
        "\n",
        "    return vectors # -> (max_len_lang, embedding_dim)"
      ],
      "execution_count": 0,
      "outputs": []
    },
    {
      "cell_type": "code",
      "metadata": {
        "id": "OAcdxclp0C19",
        "colab_type": "code",
        "colab": {}
      },
      "source": [
        "def get_embedding_dataloaders(language, batch_size, max_len=100,\n",
        "                               embedding_dim=300, remove_stop_word=True):\n",
        "    \"\"\"\n",
        "    Get dataloaders with word embeddings where each batch will have a shape\n",
        "    (batch_size, max_len, embedding_dim)\n",
        "\n",
        "    :param language: translation language model to use. Options: 'ende', 'enzh'\n",
        "    :param batch_size: batch size of the dataloader\n",
        "    :param max_len: maximum length of each sentence (please put an even number)\n",
        "    :param embedding_dim: embedding dimension of each word\n",
        "    :param remove_stop_word: if True, remove stop words\n",
        "\n",
        "    :return: three DataLoader objects; loader_train, loader_dev, loader_test\n",
        "    \"\"\"\n",
        "    # Read text files\n",
        "    train_src, train_mt, train_scores = open_data_files(language, 'train')\n",
        "    dev_src, dev_mt, dev_scores = open_data_files(language, 'dev')\n",
        "    test_src, test_mt = open_data_files(language, 'test')\n",
        "\n",
        "    # Investigate the data by computing the mean and variance of the train and\n",
        "    # dev set scores\n",
        "    print('Model language:', language)\n",
        "    print('variance and mean of train set:', torch.var_mean(train_scores))\n",
        "    print('variance and mean of dev set:', torch.var_mean(dev_scores))\n",
        "\n",
        "    lang_src = language[:2]\n",
        "    lang_mt = language[2:]\n",
        "\n",
        "    # Get pre-trained Word2Vec models for src and mt languages\n",
        "    nlp_src = spacy.load('en300')\n",
        "\n",
        "    if lang_mt == 'zh':\n",
        "        print('----loading zh model')\n",
        "        model_zh_300_path = os.path.expanduser('/content/gdrive/My Drive/NLP CW/zh_300.bin')\n",
        "        nlp_mt = Word2Vec.load(model_zh_300_path)\n",
        "        print('----finished zh model load')\n",
        "    elif lang_mt == 'de':\n",
        "        nlp_mt = spacy.load('de300')\n",
        "\n",
        "    max_len_lang = max_len // 2\n",
        "\n",
        "    # Convert src to its embeddings -> (n_sentences, max_len_lang, embedding_dim)\n",
        "    print('------src start')\n",
        "    start = time.time()\n",
        "    train_src_embedding = get_embeddings(train_src, lang_src, max_len_lang, nlp_src, embedding_dim, remove_stop_word)\n",
        "    dev_src_embedding = get_embeddings(dev_src, lang_src, max_len_lang, nlp_src, embedding_dim, remove_stop_word)\n",
        "    test_src_embedding = get_embeddings(test_src, lang_src, max_len_lang, nlp_src, embedding_dim, remove_stop_word)\n",
        "    end = time.time()\n",
        "    print('------src done', end-start)\n",
        "    print('------mt start')\n",
        "    start = time.time()   \n",
        "    # Convert mt to its embeddings -> (n_sentences, max_len_lang, embedding_dim)\n",
        "    train_mt_embedding = get_embeddings(train_mt, lang_mt, max_len_lang, nlp_mt, embedding_dim, remove_stop_word)\n",
        "    dev_mt_embedding = get_embeddings(dev_mt, lang_mt, max_len_lang, nlp_mt, embedding_dim, remove_stop_word)\n",
        "    test_mt_embedding = get_embeddings(test_mt, lang_mt, max_len_lang, nlp_mt, embedding_dim, remove_stop_word)\n",
        "    end = time.time()\n",
        "    print('------mt done', end-start)\n",
        "    # Concatenate src and mt sentences -> (n_sentences, max_len, embedding_dim)\n",
        "    train_embedding = torch.Tensor(np.concatenate([train_src_embedding, train_mt_embedding], axis=1))\n",
        "    dev_embedding = torch.Tensor(np.concatenate([dev_src_embedding, dev_mt_embedding], axis=1))\n",
        "    test_embedding = torch.Tensor(np.concatenate([test_src_embedding, test_mt_embedding], axis=1))\n",
        "\n",
        "    print(train_embedding.shape)\n",
        "    print(train_scores.shape)\n",
        "    # Create custom datasets\n",
        "    train_dataset = TensorDataset(train_embedding, train_scores)\n",
        "    print('train done')\n",
        "    dev_dataset = TensorDataset(dev_embedding, dev_scores)\n",
        "    print('dev done')\n",
        "    test_dataset = TensorDataset(test_embedding)\n",
        "\n",
        "    # Create DataLoader with batch_size\n",
        "    loader_train = DataLoader(train_dataset, batch_size=batch_size, shuffle=True)\n",
        "    loader_dev = DataLoader(dev_dataset, batch_size=batch_size)\n",
        "    loader_test = DataLoader(test_dataset, batch_size=batch_size)\n",
        "\n",
        "    return loader_train, loader_dev, loader_test"
      ],
      "execution_count": 0,
      "outputs": []
    },
    {
      "cell_type": "code",
      "metadata": {
        "id": "MBueePsg2P5k",
        "colab_type": "code",
        "colab": {}
      },
      "source": [
        "def open_data_files(language='enzh', data_type='train'):\n",
        "    \"\"\"\n",
        "    Open data text files and return its mt, src and scores lists. If data_type\n",
        "    is 'test', scores is omitted.\n",
        "\n",
        "    :param langauge: language model of the data files. Options: 'enzh', 'ende'\n",
        "    :param data_type: type of the dataset. Options: 'train', 'dev', 'test'\n",
        "\n",
        "    :return: np.array, np.array, torch.Tensor (last one omitted\n",
        "             if data_type='test')\n",
        "    \"\"\"\n",
        "    file_path = os.path.expanduser(\"./\")\n",
        "\n",
        "    # Read the data files\n",
        "    mt = pd.read_csv(file_path + '%s.%s.mt' % (data_type, language), header=None, sep='/n', engine='python')[0].to_numpy()\n",
        "    src = pd.read_csv(file_path + '%s.%s.src' % (data_type, language), header=None, sep='/n', engine='python')[0].to_numpy()\n",
        "\n",
        "    if data_type == 'test': # test data doesn't have scores\n",
        "        return src, mt\n",
        "\n",
        "    scores = torch.from_numpy(np.genfromtxt(file_path + '%s.%s.scores' % (data_type, language), dtype=np.float64, delimiter='/n')).unsqueeze(1)\n",
        "\n",
        "    return src, mt, scores"
      ],
      "execution_count": 0,
      "outputs": []
    },
    {
      "cell_type": "code",
      "metadata": {
        "id": "xBc1hZX43wr8",
        "colab_type": "code",
        "colab": {}
      },
      "source": [
        "import torch\n",
        "import numpy\n",
        "import random\n",
        "import psutil\n",
        "import humanize\n",
        "import GPUtil as GPU\n",
        "import matplotlib.pyplot as plt\n",
        "import scipy"
      ],
      "execution_count": 0,
      "outputs": []
    },
    {
      "cell_type": "code",
      "metadata": {
        "id": "LsdQ9bUB31_P",
        "colab_type": "code",
        "colab": {}
      },
      "source": [
        "def fix_seed(seed=234):\n",
        "  \"\"\"\n",
        "  Fix seed for torch and numpy to produce consistent results\n",
        "  \"\"\"\n",
        "  torch.manual_seed(seed)\n",
        "  torch.cuda.manual_seed(seed)\n",
        "  np.random.seed(seed)\n",
        "  random.seed(seed)"
      ],
      "execution_count": 0,
      "outputs": []
    },
    {
      "cell_type": "code",
      "metadata": {
        "id": "0QLPtS214b48",
        "colab_type": "code",
        "colab": {}
      },
      "source": [
        "def check_GPU_usage():\n",
        "  \"\"\"\n",
        "  Checks the amount of GPU available and used for this Colab runtime\n",
        "  \"\"\"\n",
        "  GPUs = GPU.getGPUs()\n",
        "  # XXX: only one GPU on Colab and isn’t guaranteed\n",
        "  gpu = GPUs[0]\n",
        "\n",
        "  process = psutil.Process(os.getpid())\n",
        "  print(\"Gen RAM Free: \" + humanize.naturalsize( psutil.virtual_memory().available ), \" | Proc size: \" + humanize.naturalsize( process.memory_info().rss))\n",
        "  print(\"GPU RAM Free: {0:.0f}MB | Used: {1:.0f}MB | Util {2:3.0f}% | Total {3:.0f}MB\".format(gpu.memoryFree, gpu.memoryUsed, gpu.memoryUtil*100, gpu.memoryTotal))"
      ],
      "execution_count": 0,
      "outputs": []
    },
    {
      "cell_type": "code",
      "metadata": {
        "id": "fG71EHko4eaA",
        "colab_type": "code",
        "colab": {}
      },
      "source": [
        "def check_device():\n",
        "    \"\"\"\n",
        "    Checks if we're using GPU\n",
        "\n",
        "    :return: device\n",
        "    \"\"\"\n",
        "    # Check we're using GPU\n",
        "    if torch.cuda.is_available():\n",
        "      torch.backends.cudnn.deterministic = True\n",
        "      device='cuda:0'\n",
        "    else:\n",
        "      device='cpu'\n",
        "    print('Device is', device)\n",
        "    return device"
      ],
      "execution_count": 0,
      "outputs": []
    },
    {
      "cell_type": "code",
      "metadata": {
        "id": "MaqtUo4v4fSN",
        "colab_type": "code",
        "colab": {}
      },
      "source": [
        "# print accuracy\n",
        "def check_accuracy(loader, model, loss_fn, device):\n",
        "    loss = 0\n",
        "\n",
        "    model.eval()  # set model to evaluation mode\n",
        "\n",
        "    out_list = np.array([])\n",
        "    y_list = np.array([])\n",
        "\n",
        "    with torch.no_grad():\n",
        "        for batch in loader:\n",
        "            x = tuple(i.to(device=device) for i in batch[:-1])\n",
        "            y = batch[-1].to(device=device, dtype=torch.float)\n",
        "\n",
        "            out = model(*x)\n",
        "\n",
        "            loss += loss_fn(out, y).item()\n",
        "\n",
        "            out_list = np.concatenate([out_list, out.view(-1).cpu().numpy()])\n",
        "            y_list = np.concatenate([y_list, y.view(-1).cpu().numpy()])\n",
        "\n",
        "    pearson_corr = scipy.stats.pearsonr(out_list, y_list)[0]\n",
        "\n",
        "    print('       - Validation output mean = %.5f, variance = %.5f' % (np.mean(out_list), np.var(out_list)))\n",
        "\n",
        "    print('       - Validation MSE loss = %.5f' %( loss / len(loader)))\n",
        "    print(\"       - Validation Pearson's correlation = %.5f\" % (pearson_corr))"
      ],
      "execution_count": 0,
      "outputs": []
    },
    {
      "cell_type": "code",
      "metadata": {
        "id": "X3tPGt3h4nlC",
        "colab_type": "code",
        "colab": {}
      },
      "source": [
        "# main training loop\n",
        "def train(model, loader_train, loader_val, optimizer, loss_fn, scheduler=None, epochs=1, device='cuda:0'):\n",
        "    \"\"\"\n",
        "    Train a model on CIFAR-10 using the PyTorch Module API.\n",
        "\n",
        "    Inputs:\n",
        "    - model: A PyTorch Module giving the model to train.\n",
        "    - optimizer: An Optimizer object we will use to train the model\n",
        "    - scheduler: A learning rate scheduler\n",
        "    - epochs: (Optional) A Python integer giving the number of epochs to train for\n",
        "\n",
        "    Returns: Nothing, but prints model accuracies during training.\n",
        "    \"\"\"\n",
        "    model = model.to(device=device)  # move the model parameters to CPU/GPU\n",
        "\n",
        "    loss_list = []\n",
        "    print(type(epochs))\n",
        "    for e in range(epochs):\n",
        "        print('======= Epoch {:} / {:} ======='.format(e + 1, epochs))\n",
        "        total_loss = 0\n",
        "\n",
        "        for c, batch in enumerate(loader_train):\n",
        "\n",
        "            model.train()  # put model to training mode\n",
        "\n",
        "            x = tuple(i.to(device=device) for i in batch[:-1])\n",
        "            # if len(x) != 4:\n",
        "            #   print('wtf')\n",
        "            #   raise\n",
        "            y = batch[-1].to(device=device, dtype=torch.float)\n",
        "\n",
        "            # Zero out all of the gradients for the variables which the optimizer\n",
        "            # will update.\n",
        "            optimizer.zero_grad()\n",
        "\n",
        "            out = model(*x)\n",
        "\n",
        "            loss = loss_fn(out, y)\n",
        "\n",
        "            total_loss += loss.item()\n",
        "            loss_list.append(loss.item())\n",
        "\n",
        "            # This is the backwards pass: compute the gradient of the loss with\n",
        "            # respect to each  parameter of the model.\n",
        "            loss.backward()\n",
        "\n",
        "            # Prevent gradient from exploding\n",
        "            torch.nn.utils.clip_grad_norm_(model.parameters(), 1.0)\n",
        "\n",
        "            # Actually update the parameters of the model using the gradients\n",
        "            # computed by the backwards pass.\n",
        "            optimizer.step()\n",
        "\n",
        "            if c % 100 == 0:\n",
        "                pearson_r = scipy.stats.pearsonr(out.detach().view(-1).cpu().numpy(), y.detach().view(-1).cpu().numpy())[0]\n",
        "                print('Iteration {}, loss = {:.4f}, pearson_r = {:.4f}, lr = {:.7f}'.format(c, loss.item(), pearson_r, optimizer.param_groups[0][\"lr\"]))\n",
        "                check_accuracy(loader_val, model, loss_fn, device)\n",
        "\n",
        "                if c != 0:\n",
        "                    # Plot the train loss\n",
        "                    plt.close('all')\n",
        "                    plt.figure()\n",
        "                    plt.plot(range(len(loss_list)), loss_list)\n",
        "                    plt.show()\n",
        "                    #plt.savefig('/loss_graphs/epoch_%.0f_iter_%.0f.pdf' % (epoch + 1, c))\n",
        "\n",
        "            if scheduler is not None: # Step the scheduler at each iteration\n",
        "                scheduler.step()\n",
        "\n",
        "        av_loss = total_loss / len(loader_train)\n",
        "        print(\"  Average training loss: {0:.2f}\".format(av_loss))"
      ],
      "execution_count": 0,
      "outputs": []
    },
    {
      "cell_type": "code",
      "metadata": {
        "id": "rsItAbQj71od",
        "colab_type": "code",
        "colab": {}
      },
      "source": [
        "import torch\n",
        "import torch.nn as nn\n",
        "import torch.optim as optim\n",
        "import torch.nn.functional as F"
      ],
      "execution_count": 0,
      "outputs": []
    },
    {
      "cell_type": "code",
      "metadata": {
        "id": "zf7X5UG9kUhU",
        "colab_type": "code",
        "colab": {}
      },
      "source": [
        "# GRU PyTorch class\n",
        "class GatedRNNForQualityEstimation(nn.Module):\n",
        "  def __init__(self, embedding_size, rnn_hidden_size, fc_hidden_size, dropout, tanh):\n",
        "        super().__init__()\n",
        "        \"\"\"\n",
        "        Args:\n",
        "          embedding_size (int): size of sentance embeddings\n",
        "          rnn_hidden_size (int): size of hidden state\n",
        "          fc_hidden_size (int): size of fully-connected layer\n",
        "          dropout (int): probability of zeroing activations \n",
        "          tanh (bool): activation at final layer\n",
        "\n",
        "        \"\"\"\n",
        "        self.tanh = tanh\n",
        "\n",
        "        self.rnn = nn.GRU(input_size=embedding_size,\n",
        "                          hidden_size=rnn_hidden_size,\n",
        "                          batch_first=True, num_layers=2)\n",
        "        self.fc1 = nn.Linear(in_features=rnn_hidden_size,\n",
        "                             out_features=1)\n",
        "        self.dropout = nn.Dropout(dropout)\n",
        "\n",
        "        nn.init.kaiming_normal_(self.fc1.weight)\n",
        "        \n",
        "        \n",
        "  def forward(self, x):\n",
        "      \"\"\"\n",
        "      Args:\n",
        "        x: tensor of shape (batch_size, max_length, embedding_size)\n",
        "\n",
        "      Returns:\n",
        "        out: tensor of shape (batch_size, 1)\n",
        "\n",
        "      \"\"\"\n",
        "      rnn_out, _ = self.rnn(x)\n",
        "      pooled = F.max_pool1d(rnn_out.transpose(1, 2), rnn_out.shape[1]).squeeze(2)\n",
        "      out = self.dropout(pooled)\n",
        "\n",
        "      if self.tanh:\n",
        "        out = torch.tanh(self.fc1(out))\n",
        "      else:\n",
        "        out = self.fc1(out)\n",
        "      return out"
      ],
      "execution_count": 0,
      "outputs": []
    },
    {
      "cell_type": "code",
      "metadata": {
        "id": "BZ3Yb_I-vgHg",
        "colab_type": "code",
        "outputId": "65309031-6628-41d9-b1b9-1615f0ae85fe",
        "colab": {
          "base_uri": "https://localhost:8080/",
          "height": 34
        }
      },
      "source": [
        "# model params\n",
        "import torch.optim as optim\n",
        "from transformers import AdamW\n",
        "\n",
        "language = 'enzh'\n",
        "batch_size = 64\n",
        "max_len = 60\n",
        "embedding_dim = 300\n",
        "remove_stop_word = False\n",
        "\n",
        "rnn_hidden_size = 720\n",
        "fc_hidden_size = 640\n",
        "dropout = 0.1\n",
        "tanh = False\n",
        "\n",
        "epochs = 6\n",
        "lr = 1e-4\n",
        "eps = 1e-8\n",
        "step_size = 100\n",
        "gamma = 0.7\n",
        "\n",
        "seed = 827\n",
        "\n",
        "fix_seed(seed)\n",
        "\n",
        "device = check_device()"
      ],
      "execution_count": 98,
      "outputs": [
        {
          "output_type": "stream",
          "text": [
            "Device is cuda:0\n"
          ],
          "name": "stdout"
        }
      ]
    },
    {
      "cell_type": "code",
      "metadata": {
        "id": "dPEGNB1-Jfmz",
        "colab_type": "code",
        "colab": {
          "base_uri": "https://localhost:8080/",
          "height": 360
        },
        "outputId": "5ee53612-daf4-4758-cc27-936659275caa"
      },
      "source": [
        "# load datab\n",
        "loader_train, loader_dev, loader_test = get_embedding_dataloaders(language,\n",
        "                    batch_size, max_len, embedding_dim, remove_stop_word)"
      ],
      "execution_count": 23,
      "outputs": [
        {
          "output_type": "stream",
          "text": [
            "Model language: enzh\n",
            "variance and mean of train set: (tensor(0.8600, dtype=torch.float64), tensor(0.0039, dtype=torch.float64))\n",
            "variance and mean of dev set: (tensor(0.8276, dtype=torch.float64), tensor(-0.0222, dtype=torch.float64))\n",
            "----loading zh model\n"
          ],
          "name": "stdout"
        },
        {
          "output_type": "stream",
          "text": [
            "/usr/local/lib/python3.6/dist-packages/smart_open/smart_open_lib.py:402: UserWarning: This function is deprecated, use smart_open.open instead. See the migration notes for details: https://github.com/RaRe-Technologies/smart_open/blob/master/README.rst#migrating-to-the-new-open-function\n",
            "  'See the migration notes for details: %s' % _MIGRATION_NOTES_URL\n"
          ],
          "name": "stderr"
        },
        {
          "output_type": "stream",
          "text": [
            "----finished zh model load\n",
            "------src start\n",
            "------src done 4.92410683631897\n",
            "------mt start\n"
          ],
          "name": "stdout"
        },
        {
          "output_type": "stream",
          "text": [
            "Building prefix dict from the default dictionary ...\n",
            "Loading model from cache /tmp/jieba.cache\n",
            "Loading model cost 0.579 seconds.\n",
            "Prefix dict has been built successfully.\n"
          ],
          "name": "stderr"
        },
        {
          "output_type": "stream",
          "text": [
            "------mt done 2.1239373683929443\n",
            "torch.Size([7000, 60, 300])\n",
            "torch.Size([7000, 1])\n",
            "train done\n",
            "dev done\n"
          ],
          "name": "stdout"
        }
      ]
    },
    {
      "cell_type": "code",
      "metadata": {
        "id": "ZGooKR26xDYS",
        "colab_type": "code",
        "outputId": "579dbd7c-35f1-462e-8dd0-b06a03d7823e",
        "colab": {
          "base_uri": "https://localhost:8080/",
          "height": 1000
        }
      },
      "source": [
        "# instantiate model, optimizer and train\n",
        "model = GatedRNNForQualityEstimation(embedding_dim, rnn_hidden_size, fc_hidden_size, dropout, tanh)\n",
        "\n",
        "optimizer = AdamW(model.parameters(), lr=lr, eps=eps)\n",
        "scheduler = optim.lr_scheduler.StepLR(optimizer, step_size=step_size, gamma=gamma)\n",
        "\n",
        "loss_fn = nn.SmoothL1Loss() # \n",
        "\n",
        "train(model, loader_train, loader_dev, optimizer, loss_fn, scheduler, epochs, device)\n",
        "\n",
        "torch.cuda.empty_cache()"
      ],
      "execution_count": 99,
      "outputs": [
        {
          "output_type": "stream",
          "text": [
            "<class 'int'>\n",
            "======= Epoch 1 / 6 =======\n",
            "Iteration 0, loss = 0.5454, pearson_r = 0.2451, lr = 0.0001000\n",
            "       - Validation output mean = 0.26579, variance = 0.00777\n",
            "       - Validation MSE loss = 0.36981\n",
            "       - Validation Pearson's correlation = 0.04907\n",
            "Iteration 100, loss = 0.3729, pearson_r = 0.0906, lr = 0.0000700\n",
            "       - Validation output mean = 0.07421, variance = 0.04822\n",
            "       - Validation MSE loss = 0.34220\n",
            "       - Validation Pearson's correlation = 0.24857\n"
          ],
          "name": "stdout"
        },
        {
          "output_type": "display_data",
          "data": {
            "image/png": "[encoded data removed]",
            "text/plain": [
              "<Figure size 432x288 with 1 Axes>"
            ]
          },
          "metadata": {
            "tags": []
          }
        },
        {
          "output_type": "stream",
          "text": [
            "  Average training loss: 0.35\n",
            "======= Epoch 2 / 6 =======\n",
            "Iteration 0, loss = 0.2628, pearson_r = 0.3829, lr = 0.0000700\n",
            "       - Validation output mean = 0.07071, variance = 0.05808\n",
            "       - Validation MSE loss = 0.34319\n",
            "       - Validation Pearson's correlation = 0.24134\n",
            "Iteration 100, loss = 0.4171, pearson_r = 0.2607, lr = 0.0000490\n",
            "       - Validation output mean = 0.10413, variance = 0.04799\n",
            "       - Validation MSE loss = 0.33671\n",
            "       - Validation Pearson's correlation = 0.28274\n"
          ],
          "name": "stdout"
        },
        {
          "output_type": "display_data",
          "data": {
            "image/png": "[encoded data removed]",
            "text/plain": [
              "<Figure size 432x288 with 1 Axes>"
            ]
          },
          "metadata": {
            "tags": []
          }
        },
        {
          "output_type": "stream",
          "text": [
            "  Average training loss: 0.33\n",
            "======= Epoch 3 / 6 =======\n",
            "Iteration 0, loss = 0.2800, pearson_r = 0.4825, lr = 0.0000490\n",
            "       - Validation output mean = 0.20895, variance = 0.05141\n",
            "       - Validation MSE loss = 0.34207\n",
            "       - Validation Pearson's correlation = 0.28382\n",
            "Iteration 100, loss = 0.2428, pearson_r = 0.5917, lr = 0.0000343\n",
            "       - Validation output mean = 0.19143, variance = 0.06524\n",
            "       - Validation MSE loss = 0.34030\n",
            "       - Validation Pearson's correlation = 0.28165\n"
          ],
          "name": "stdout"
        },
        {
          "output_type": "display_data",
          "data": {
            "image/png": "[encoded data removed]",
            "text/plain": [
              "<Figure size 432x288 with 1 Axes>"
            ]
          },
          "metadata": {
            "tags": []
          }
        },
        {
          "output_type": "stream",
          "text": [
            "  Average training loss: 0.31\n",
            "======= Epoch 4 / 6 =======\n",
            "Iteration 0, loss = 0.3078, pearson_r = 0.4394, lr = 0.0000343\n",
            "       - Validation output mean = 0.02761, variance = 0.07103\n",
            "       - Validation MSE loss = 0.33807\n",
            "       - Validation Pearson's correlation = 0.27759\n",
            "Iteration 100, loss = 0.2518, pearson_r = 0.4693, lr = 0.0000240\n",
            "       - Validation output mean = 0.08396, variance = 0.07772\n",
            "       - Validation MSE loss = 0.33623\n",
            "       - Validation Pearson's correlation = 0.28296\n"
          ],
          "name": "stdout"
        },
        {
          "output_type": "display_data",
          "data": {
            "image/png": "[encoded data removed]",
            "text/plain": [
              "<Figure size 432x288 with 1 Axes>"
            ]
          },
          "metadata": {
            "tags": []
          }
        },
        {
          "output_type": "stream",
          "text": [
            "  Average training loss: 0.30\n",
            "======= Epoch 5 / 6 =======\n",
            "Iteration 0, loss = 0.2832, pearson_r = 0.6178, lr = 0.0000240\n",
            "       - Validation output mean = 0.12547, variance = 0.06815\n",
            "       - Validation MSE loss = 0.33540\n",
            "       - Validation Pearson's correlation = 0.28775\n",
            "Iteration 100, loss = 0.2586, pearson_r = 0.4457, lr = 0.0000168\n",
            "       - Validation output mean = 0.05052, variance = 0.08147\n",
            "       - Validation MSE loss = 0.33577\n",
            "       - Validation Pearson's correlation = 0.28612\n"
          ],
          "name": "stdout"
        },
        {
          "output_type": "display_data",
          "data": {
            "image/png": "[encoded data removed]",
            "text/plain": [
              "<Figure size 432x288 with 1 Axes>"
            ]
          },
          "metadata": {
            "tags": []
          }
        },
        {
          "output_type": "stream",
          "text": [
            "  Average training loss: 0.29\n",
            "======= Epoch 6 / 6 =======\n",
            "Iteration 0, loss = 0.4108, pearson_r = 0.5653, lr = 0.0000168\n",
            "       - Validation output mean = 0.18160, variance = 0.07796\n",
            "       - Validation MSE loss = 0.33854\n",
            "       - Validation Pearson's correlation = 0.28684\n",
            "Iteration 100, loss = 0.2936, pearson_r = 0.5730, lr = 0.0000118\n",
            "       - Validation output mean = 0.07836, variance = 0.07770\n",
            "       - Validation MSE loss = 0.33466\n",
            "       - Validation Pearson's correlation = 0.28729\n"
          ],
          "name": "stdout"
        },
        {
          "output_type": "display_data",
          "data": {
            "image/png": "[encoded data removed]",
            "text/plain": [
              "<Figure size 432x288 with 1 Axes>"
            ]
          },
          "metadata": {
            "tags": []
          }
        },
        {
          "output_type": "stream",
          "text": [
            "  Average training loss: 0.28\n"
          ],
          "name": "stdout"
        }
      ]
    },
    {
      "cell_type": "code",
      "metadata": {
        "id": "pLLWvTQupA3y",
        "colab_type": "code",
        "colab": {}
      },
      "source": [
        "# save model\n",
        "model_base_name = 'GRNN_model.pt'\n",
        "model_save_path = F\"/content/gdrive/My Drive/Colab Notebooks/{model_base_name}\"\n",
        "\n",
        "torch.save({'state_dict': model.state_dict(),\n",
        "            'language': language,\n",
        "            'max_len': max_len,\n",
        "            'batch_size': batch_size,\n",
        "            'seed': seed,\n",
        "            'lr': lr,\n",
        "            'eps': eps,\n",
        "            'step_size': step_size,\n",
        "            'gamma': gamma,\n",
        "            'epochs': epochs,\n",
        "            'rnn_hidden_size': rnn_hidden_size,\n",
        "            'fc_hidden_size': fc_hidden_size,\n",
        "            'dropout': dropout,\n",
        "            'tanh': tanh,\n",
        "            'embedding_dim': embedding_dim,\n",
        "            'remove_stop_word': remove_stop_word}, model_save_path)"
      ],
      "execution_count": 0,
      "outputs": []
    },
    {
      "cell_type": "code",
      "metadata": {
        "id": "V4goWSiRocp-",
        "colab_type": "code",
        "colab": {}
      },
      "source": [
        "# compute scores\n",
        "def get_test_output(model, loader_test):\n",
        "    model.eval() # set model to evaluation mode\n",
        "\n",
        "    scores = np.array([])\n",
        "\n",
        "    with torch.no_grad():\n",
        "        for batch in loader_test:\n",
        "            x = tuple(i.to(device=device) for i in batch)\n",
        "            out = model(*x)\n",
        "            scores = np.concatenate([scores, out.view(-1).cpu().numpy()])\n",
        "    return scores"
      ],
      "execution_count": 0,
      "outputs": []
    },
    {
      "cell_type": "code",
      "metadata": {
        "id": "ms80rkkNXKYm",
        "colab_type": "code",
        "colab": {}
      },
      "source": [
        "import os\n",
        "\n",
        "# write scores to file\n",
        "def writeScores(scores):\n",
        "    fn = \"/content/gdrive/My Drive/Colab Notebooks/predictions.txt\"\n",
        "    print(\"\")\n",
        "    with open(fn, 'w') as output_file:\n",
        "        for idx, x in enumerate(scores):\n",
        "            #out =  metrics[idx]+\":\"+str(\"{0:.2f}\".format(x))+\"\\n\"\n",
        "            #print(out)\n",
        "            output_file.write(f\"{x}\\n\")"
      ],
      "execution_count": 0,
      "outputs": []
    },
    {
      "cell_type": "code",
      "metadata": {
        "id": "GRXr8udDXQvF",
        "colab_type": "code",
        "colab": {
          "base_uri": "https://localhost:8080/",
          "height": 34
        },
        "outputId": "d8690bf8-aa7f-4f3e-c41b-9173173fd2d5"
      },
      "source": [
        "scores = get_test_output(model, loader_test)\n",
        "writeScores(scores)"
      ],
      "execution_count": 104,
      "outputs": [
        {
          "output_type": "stream",
          "text": [
            "\n"
          ],
          "name": "stdout"
        }
      ]
    },
    {
      "cell_type": "code",
      "metadata": {
        "id": "5lfhl4e1XUpf",
        "colab_type": "code",
        "colab": {
          "base_uri": "https://localhost:8080/",
          "height": 34
        },
        "outputId": "4608c461-bd9c-4f2e-d7c1-83370f9b5bc1"
      },
      "source": [
        "os.path.isfile(\"/content/gdrive/My Drive/Colab Notebooks/predictions.txt\")"
      ],
      "execution_count": 105,
      "outputs": [
        {
          "output_type": "execute_result",
          "data": {
            "text/plain": [
              "True"
            ]
          },
          "metadata": {
            "tags": []
          },
          "execution_count": 105
        }
      ]
    },
    {
      "cell_type": "code",
      "metadata": {
        "id": "UBZPBAWBXeET",
        "colab_type": "code",
        "colab": {
          "base_uri": "https://localhost:8080/",
          "height": 629
        },
        "outputId": "54b36de2-5dc6-4ffe-bf18-aa917acb97b3"
      },
      "source": [
        "import glob\n",
        "\n",
        "glob.glob(\"/content/gdrive/My Drive/Colab Notebooks/*\")"
      ],
      "execution_count": 107,
      "outputs": [
        {
          "output_type": "execute_result",
          "data": {
            "text/plain": [
              "['/content/gdrive/My Drive/Colab Notebooks/Untitled0.ipynb',\n",
              " '/content/gdrive/My Drive/Colab Notebooks/notebook1_pytorch_demo.ipynb',\n",
              " '/content/gdrive/My Drive/Colab Notebooks/notebook0_numpy_pytorch_intro.ipynb',\n",
              " '/content/gdrive/My Drive/Colab Notebooks/01_preprocessing_and_embeddings.ipynb',\n",
              " '/content/gdrive/My Drive/Colab Notebooks/Copy of 460cw1_2020 (1).ipynb',\n",
              " '/content/gdrive/My Drive/Colab Notebooks/Copy of 460cw1_2020.ipynb',\n",
              " '/content/gdrive/My Drive/Colab Notebooks/02-Intro-Medical-Image-Computing.ipynb',\n",
              " '/content/gdrive/My Drive/Colab Notebooks/460cw1_2020_final (1).ipynb',\n",
              " '/content/gdrive/My Drive/Colab Notebooks/tutorial_5.ipynb',\n",
              " '/content/gdrive/My Drive/Colab Notebooks/LabExercise5.ipynb',\n",
              " '/content/gdrive/My Drive/Colab Notebooks/dev.enzh.mt',\n",
              " '/content/gdrive/My Drive/Colab Notebooks/dev.enzh.scores',\n",
              " '/content/gdrive/My Drive/Colab Notebooks/train.enzh.scores',\n",
              " '/content/gdrive/My Drive/Colab Notebooks/dev.enzh.src',\n",
              " '/content/gdrive/My Drive/Colab Notebooks/train.enzh.src',\n",
              " '/content/gdrive/My Drive/Colab Notebooks/train.enzh.mt',\n",
              " '/content/gdrive/My Drive/Colab Notebooks/03-Neural-Nets-and-CNNs.ipynb',\n",
              " '/content/gdrive/My Drive/Colab Notebooks/04-FCNs-for-segmentation.ipynb',\n",
              " '/content/gdrive/My Drive/Colab Notebooks/05-Clustering-and-PCA.ipynb',\n",
              " '/content/gdrive/My Drive/Colab Notebooks/glove.6B.zip',\n",
              " '/content/gdrive/My Drive/Colab Notebooks/glove.6B.50d.txt',\n",
              " '/content/gdrive/My Drive/Colab Notebooks/glove.6B.100d.txt',\n",
              " '/content/gdrive/My Drive/Colab Notebooks/glove.6B.200d.txt',\n",
              " '/content/gdrive/My Drive/Colab Notebooks/glove.6B.300d.txt',\n",
              " '/content/gdrive/My Drive/Colab Notebooks/glove.6B.300d.txt.pt',\n",
              " '/content/gdrive/My Drive/Colab Notebooks/glove300.pkl',\n",
              " '/content/gdrive/My Drive/Colab Notebooks/LabExercise4.ipynb',\n",
              " '/content/gdrive/My Drive/Colab Notebooks/tutorial4.ipynb',\n",
              " '/content/gdrive/My Drive/Colab Notebooks/460cw1_2020_final.ipynb',\n",
              " '/content/gdrive/My Drive/Colab Notebooks/DL_CW2_DCGAN_experiments.ipynb',\n",
              " '/content/gdrive/My Drive/Colab Notebooks/CW-Brain-Age-Regression.ipynb',\n",
              " '/content/gdrive/My Drive/Colab Notebooks/DL_CW2.ipynb',\n",
              " '/content/gdrive/My Drive/Colab Notebooks/tutorial_6.ipynb',\n",
              " '/content/gdrive/My Drive/Colab Notebooks/NLP_CW_Jamie_model.ipynb',\n",
              " '/content/gdrive/My Drive/Colab Notebooks/GRNN_model.pt',\n",
              " '/content/gdrive/My Drive/Colab Notebooks/predictions.txt']"
            ]
          },
          "metadata": {
            "tags": []
          },
          "execution_count": 107
        }
      ]
    },
    {
      "cell_type": "code",
      "metadata": {
        "id": "qPAM2FTfX_xc",
        "colab_type": "code",
        "colab": {}
      },
      "source": [
        "from google.colab import files\n",
        "from zipfile import ZipFile\n",
        "\n",
        "\n",
        "with ZipFile(\"en-zh_svr.zip\",\"w\") as newzip:\n",
        "    newzip.write(\"/content/gdrive/My Drive/Colab Notebooks/predictions.txt\")\n",
        "    newzip.write(model_save_path)\n",
        " \n",
        "files.download('en-zh_svr.zip') \n"
      ],
      "execution_count": 0,
      "outputs": []
    }
  ]
}